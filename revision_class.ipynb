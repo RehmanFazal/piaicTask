{
 "cells": [
  {
   "cell_type": "markdown",
   "metadata": {},
   "source": [
    "## Revision Class"
   ]
  },
  {
   "cell_type": "code",
   "execution_count": null,
   "metadata": {},
   "outputs": [],
   "source": [
    "myList = []\n",
    "myDict = {}\n",
    "exit = ''\n",
    "while exit != 'no':\n",
    "    myDict[\"name\"] = input(\"Enter Name : \\n\")\n",
    "    myDict[\"marks\"] = {(input(f\"Enter subject {i} : \\n\"),int(input(f\"Enter marks of subject {i} : \\n\"))) for i in range(1, 4)}\n",
    "    myDict[\"hobbies\"] = [input(f\"Enter your hobby {i} : \\n\") for i in range(1, 3)]\n",
    "    myList.append(myDict)\n",
    "    exit = input(\"Do u want to enter more data yes/no \\n\")\n",
    "myList"
   ]
  },
  {
   "cell_type": "markdown",
   "metadata": {},
   "source": []
  },
  {
   "cell_type": "code",
   "execution_count": null,
   "metadata": {},
   "outputs": [],
   "source": [
    "name = \"Ali\"\n",
    "father_name = \"Hamza\"\n",
    "university = \"Bahria University\"\n",
    "\n",
    "message =  \"\"\"\n",
    "PIAIC ISLAMABAD BATCH3\n",
    "Name:  {}\n",
    "Father: {}\n",
    "University: {}\n",
    "\"\"\".format(name, father_name, university)\n",
    "\n",
    "\n",
    "print(message)"
   ]
  },
  {
   "cell_type": "code",
   "execution_count": null,
   "metadata": {},
   "outputs": [],
   "source": [
    "print(\"Ali love {} and {} \".format('candies', 'ballons'))"
   ]
  },
  {
   "cell_type": "code",
   "execution_count": null,
   "metadata": {},
   "outputs": [],
   "source": [
    "a=7\n",
    "b=9\n",
    "print(id(a))\n",
    "print(id(b))"
   ]
  },
  {
   "cell_type": "code",
   "execution_count": null,
   "metadata": {},
   "outputs": [],
   "source": [
    "data = {\"name\":\"Muhammad Qasim\",\n",
    "        \"name\":\"Asif KHan\",\n",
    "       \"father_name\":\"Muhammad Aslam\",\n",
    "        True: \"Pakistan\",\n",
    "        False: 100\n",
    "       }\n",
    "\n",
    "data[\"name\"]"
   ]
  },
  {
   "cell_type": "code",
   "execution_count": null,
   "metadata": {},
   "outputs": [],
   "source": [
    "data[1]"
   ]
  },
  {
   "cell_type": "code",
   "execution_count": null,
   "metadata": {},
   "outputs": [],
   "source": [
    "data[0]"
   ]
  },
  {
   "cell_type": "code",
   "execution_count": null,
   "metadata": {},
   "outputs": [],
   "source": [
    "type(data)"
   ]
  },
  {
   "cell_type": "code",
   "execution_count": null,
   "metadata": {},
   "outputs": [],
   "source": [
    "type(data[0])"
   ]
  },
  {
   "cell_type": "code",
   "execution_count": null,
   "metadata": {},
   "outputs": [],
   "source": [
    "name1 = \"    MUHammaD    QaSiM      \"\n",
    "print(len(name1))\n",
    "print(name1.title())\n",
    "print(len(name1.title()))"
   ]
  },
  {
   "cell_type": "code",
   "execution_count": null,
   "metadata": {},
   "outputs": [],
   "source": [
    "a = \"we are pakistan we love our country!\"\n",
    "a.find(\"we\",5)\n",
    "a.find(\"love\", 5)"
   ]
  },
  {
   "cell_type": "code",
   "execution_count": null,
   "metadata": {},
   "outputs": [],
   "source": [
    "aa = \"FAZAL\"\n",
    "aa[::-1]"
   ]
  },
  {
   "cell_type": "code",
   "execution_count": null,
   "metadata": {},
   "outputs": [],
   "source": [
    "a = \"we are Pakistan we love our country!\"\n",
    "b = a.split()\n",
    "b"
   ]
  },
  {
   "cell_type": "code",
   "execution_count": null,
   "metadata": {},
   "outputs": [],
   "source": [
    "print(\"Name : %s \\n Class : %d \\n School %s \\n\"%(\"Ali\", 6, 'Vision'))"
   ]
  },
  {
   "cell_type": "code",
   "execution_count": null,
   "metadata": {},
   "outputs": [],
   "source": [
    "{3,7,8} - {2,3,8}"
   ]
  },
  {
   "cell_type": "code",
   "execution_count": null,
   "metadata": {},
   "outputs": [],
   "source": [
    "{1} - {2}"
   ]
  },
  {
   "cell_type": "code",
   "execution_count": null,
   "metadata": {},
   "outputs": [],
   "source": [
    "{3,9} - {9,8}"
   ]
  },
  {
   "cell_type": "code",
   "execution_count": null,
   "metadata": {},
   "outputs": [],
   "source": [
    "i = int(input(\"Enter no \\n \"))\n",
    "for i in range(1,i + 1):\n",
    "    for j in range(1, 11):\n",
    "#         print(f\"{i} * {j} = {i*j}\")\n",
    "#         print(i, \"X\", j , \"=\", i*j)\n",
    "        print(str(i) + \" X \" + str(j) + \" = \" + str(i*j))\n",
    "#         print(\"%d * %d = %d \"%(i, j, i*j))"
   ]
  },
  {
   "cell_type": "code",
   "execution_count": null,
   "metadata": {},
   "outputs": [],
   "source": [
    "l = [1,2,3,4]\n",
    "for r,rr in enumerate(l):\n",
    "    print((r,rr), end=\" \\n \")\n",
    "    "
   ]
  },
  {
   "cell_type": "code",
   "execution_count": null,
   "metadata": {},
   "outputs": [],
   "source": [
    "d1 = {'a':1, 'b': 5 , 'c':3 }\n",
    "{k:v for k,v in sorted(d1.items(), key= lambda item: item[1])}\n"
   ]
  },
  {
   "cell_type": "code",
   "execution_count": null,
   "metadata": {},
   "outputs": [],
   "source": [
    "key= lambda item: item[1]\n",
    "print(key((0,1)))"
   ]
  },
  {
   "cell_type": "code",
   "execution_count": null,
   "metadata": {},
   "outputs": [],
   "source": [
    "d = {'a':8,'b':7}\n",
    "print(d.get('a', 'nn'))"
   ]
  },
  {
   "cell_type": "code",
   "execution_count": null,
   "metadata": {},
   "outputs": [],
   "source": [
    "d.items()"
   ]
  },
  {
   "cell_type": "code",
   "execution_count": null,
   "metadata": {},
   "outputs": [],
   "source": [
    "d.clear()"
   ]
  },
  {
   "cell_type": "code",
   "execution_count": null,
   "metadata": {},
   "outputs": [],
   "source": [
    "print(d)"
   ]
  },
  {
   "cell_type": "code",
   "execution_count": null,
   "metadata": {},
   "outputs": [],
   "source": [
    "del d1"
   ]
  },
  {
   "cell_type": "code",
   "execution_count": null,
   "metadata": {},
   "outputs": [],
   "source": [
    "print(d1)"
   ]
  },
  {
   "cell_type": "code",
   "execution_count": null,
   "metadata": {},
   "outputs": [],
   "source": [
    "d = {'a':8,'b':7}\n",
    "d1 = d.copy()\n",
    "print(d)\n",
    "print(d1)\n"
   ]
  },
  {
   "cell_type": "code",
   "execution_count": null,
   "metadata": {},
   "outputs": [],
   "source": [
    "d1['a'] = 77\n",
    "print(d)\n",
    "print(d1)"
   ]
  },
  {
   "cell_type": "code",
   "execution_count": null,
   "metadata": {},
   "outputs": [],
   "source": [
    "d = {'a':8,'b':7}\n",
    "l = ['a','b','c']\n",
    "d3 = {}\n",
    "d3 = d3.fromkeys(l)\n",
    "print(d3)"
   ]
  },
  {
   "cell_type": "code",
   "execution_count": null,
   "metadata": {},
   "outputs": [],
   "source": [
    "p = input('Enter name: ')\n",
    "d3['g'] = p.split(',')\n",
    "print(d3)"
   ]
  },
  {
   "cell_type": "code",
   "execution_count": null,
   "metadata": {},
   "outputs": [],
   "source": [
    "k = input('Enter keys: ').split(',')\n",
    "v = input('Enter values: ').split(',')\n",
    "dict = {}\n",
    "for i in range(len(k)):\n",
    "    dict[k[i]] = v[i]\n",
    "print(dict)"
   ]
  },
  {
   "cell_type": "code",
   "execution_count": null,
   "metadata": {},
   "outputs": [],
   "source": [
    "k = input('Enter keys: ').split(',')\n",
    "v = input('Enter values: ').split(',')\n",
    "d2 = {}\n",
    "print(list(zip(k,v)))\n",
    "for k,v in list(zip(k,v)):\n",
    "    d2[k] = v\n",
    "print(d2)    \n"
   ]
  },
  {
   "cell_type": "code",
   "execution_count": 2,
   "metadata": {},
   "outputs": [
    {
     "name": "stdout",
     "output_type": "stream",
     "text": [
      "Enter keys: j,k,l\n",
      "Enter values: l,k,j\n",
      "{'j': 'l', 'k': 'k', 'l': 'j'}\n"
     ]
    }
   ],
   "source": [
    "k = input('Enter keys: ').split(',')\n",
    "v = input('Enter values: ').split(',')\n",
    "d3 = { k:v for k,v in list( zip(k, v) ) }\n",
    "print(d3)"
   ]
  },
  {
   "cell_type": "code",
   "execution_count": 3,
   "metadata": {},
   "outputs": [
    {
     "name": "stdout",
     "output_type": "stream",
     "text": [
      "{'j': 'l', 'k': 'k', 'l': 'j'}\n"
     ]
    }
   ],
   "source": [
    "d4 = dict(zip(k,v))\n",
    "print(d4)"
   ]
  },
  {
   "cell_type": "code",
   "execution_count": 10,
   "metadata": {},
   "outputs": [
    {
     "name": "stdout",
     "output_type": "stream",
     "text": [
      "['A', 'B', 'C', 'D', 'E', 'F', 'G', 'H', 'I', 'J', 'K', 'L', 'M', 'N', 'O', 'P', 'Q', 'R', 'S', 'T', 'U', 'V', 'W', 'X', 'Y', 'Z']\n",
      "['a', 'b', 'c', 'd', 'e', 'f', 'g', 'h', 'i', 'j', 'k', 'l', 'm', 'n', 'o', 'p', 'q', 'r', 's', 't', 'u', 'v', 'w', 'x', 'y', 'z']\n",
      "['0', '1', '2', '3', '4', '5', '6', '7', '8', '9']\n"
     ]
    }
   ],
   "source": [
    "a = [chr(i) for i in range(65, 91)]\n",
    "print(a)\n",
    "b = [chr(i) for i in range(97, 123)]\n",
    "print(b)\n",
    "c = [chr(i) for i in range(48, 58)]\n",
    "print(c)"
   ]
  },
  {
   "cell_type": "code",
   "execution_count": 13,
   "metadata": {},
   "outputs": [
    {
     "name": "stdout",
     "output_type": "stream",
     "text": [
      "['z', 'y', 'x', 'w', 'v', 'u', 't', 's', 'r', 'q', 'p', 'o', 'n', 'm', 'l', 'k', 'j', 'i', 'h', 'g', 'f', 'e', 'd', 'c', 'b', 'a']\n",
      "[('A', 'z', '0'), ('B', 'y', '1'), ('C', 'x', '2'), ('D', 'w', '3'), ('E', 'v', '4'), ('F', 'u', '5'), ('G', 't', '6'), ('H', 's', '7'), ('I', 'r', '8'), ('J', 'q', '9')]\n"
     ]
    }
   ],
   "source": [
    "print(sorted(b, reverse=True))\n",
    "dd = list(zip(a,sorted(b, reverse=True),c))\n",
    "print(dd)"
   ]
  },
  {
   "cell_type": "code",
   "execution_count": 16,
   "metadata": {},
   "outputs": [
    {
     "name": "stdout",
     "output_type": "stream",
     "text": [
      "['c', 'b', 'a']\n"
     ]
    }
   ],
   "source": [
    "d5 = {'a':1, 'b': 5 , 'c':3 }\n",
    "print(sorted(d5.keys(),reverse=True))"
   ]
  },
  {
   "cell_type": "code",
   "execution_count": 19,
   "metadata": {},
   "outputs": [
    {
     "name": "stdout",
     "output_type": "stream",
     "text": [
      "{'b': 5, 'c': 3, 'a': 1}\n"
     ]
    }
   ],
   "source": [
    "t = lambda x:x[1]\n",
    "d6 = {k:v for k,v in sorted(d5.items(),reverse=True,key = t)}\n",
    "print(d6)"
   ]
  },
  {
   "cell_type": "code",
   "execution_count": null,
   "metadata": {},
   "outputs": [],
   "source": [
    "dov\n",
    "mofa\n",
    "translate\n",
    "\n",
    "salary slip\n",
    "job lettter"
   ]
  }
 ],
 "metadata": {
  "kernelspec": {
   "display_name": "Python 3",
   "language": "python",
   "name": "python3"
  },
  "language_info": {
   "codemirror_mode": {
    "name": "ipython",
    "version": 3
   },
   "file_extension": ".py",
   "mimetype": "text/x-python",
   "name": "python",
   "nbconvert_exporter": "python",
   "pygments_lexer": "ipython3",
   "version": "3.7.4"
  }
 },
 "nbformat": 4,
 "nbformat_minor": 2
}
