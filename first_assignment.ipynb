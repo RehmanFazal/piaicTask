{
 "cells": [
  {
   "cell_type": "markdown",
   "metadata": {},
   "source": [
    "### Assignment"
   ]
  },
  {
   "cell_type": "markdown",
   "metadata": {},
   "source": [
    "##### 1. Which of the following terms are related to dictionaries?"
   ]
  },
  {
   "cell_type": "code",
   "execution_count": 11,
   "metadata": {},
   "outputs": [],
   "source": [
    "# Ans : a,b,c,d"
   ]
  },
  {
   "cell_type": "markdown",
   "metadata": {},
   "source": [
    "#### 2. Just like lists, + operator is used to extend dictionaries?"
   ]
  },
  {
   "cell_type": "code",
   "execution_count": 12,
   "metadata": {},
   "outputs": [],
   "source": [
    "# Ans : b"
   ]
  },
  {
   "cell_type": "markdown",
   "metadata": {},
   "source": [
    "#### 3. To access items from a dictionary, we specify the index of that item within [] like myDict[0]?"
   ]
  },
  {
   "cell_type": "code",
   "execution_count": 17,
   "metadata": {},
   "outputs": [],
   "source": [
    "# Ans : b"
   ]
  },
  {
   "cell_type": "markdown",
   "metadata": {},
   "source": [
    "#### 4. When we use [] to access the value from a dictionary which does not exist in that dictionary….?"
   ]
  },
  {
   "cell_type": "code",
   "execution_count": 3,
   "metadata": {},
   "outputs": [],
   "source": [
    "# Ans : d"
   ]
  },
  {
   "cell_type": "markdown",
   "metadata": {},
   "source": [
    "#### 5. What does return the pop method of a dictionary?"
   ]
  },
  {
   "cell_type": "code",
   "execution_count": 9,
   "metadata": {},
   "outputs": [],
   "source": [
    "# Ans : d"
   ]
  },
  {
   "cell_type": "markdown",
   "metadata": {},
   "source": [
    "#### 6. What does return popitem method return?"
   ]
  },
  {
   "cell_type": "code",
   "execution_count": 11,
   "metadata": {},
   "outputs": [],
   "source": [
    "# And : c"
   ]
  },
  {
   "cell_type": "markdown",
   "metadata": {},
   "source": [
    "#### 7. Which of the following 2 methods can be used to iterate through the items of a dictionary?"
   ]
  },
  {
   "cell_type": "code",
   "execution_count": 12,
   "metadata": {},
   "outputs": [],
   "source": [
    "# And : a"
   ]
  },
  {
   "cell_type": "markdown",
   "metadata": {},
   "source": [
    "#### 8. Which one of the following is used to enclose a dictionary?"
   ]
  },
  {
   "cell_type": "code",
   "execution_count": null,
   "metadata": {},
   "outputs": [],
   "source": [
    "# And : b"
   ]
  },
  {
   "cell_type": "markdown",
   "metadata": {},
   "source": [
    "#### 9. Write Python Program add key-value pair in dictionary and check if a Given Key or Value or Both Exists in a Dictionary or Not."
   ]
  },
  {
   "cell_type": "code",
   "execution_count": 26,
   "metadata": {},
   "outputs": [
    {
     "name": "stdout",
     "output_type": "stream",
     "text": [
      "Fazal Rehman\n",
      "Fazal Rehman\n",
      "-1\n"
     ]
    },
    {
     "data": {
      "text/plain": [
       "False"
      ]
     },
     "execution_count": 26,
     "metadata": {},
     "output_type": "execute_result"
    }
   ],
   "source": [
    "dict = {}\n",
    "dict[\"Name\"] = \"Fazal Rehman\"\n",
    "dict[\"Age\"] = 27\n",
    "# dict\n",
    "print(dict[\"Name\"])\n",
    "print(dict.get(\"Name\", -1))\n",
    "print(dict.get(\"Namee\", -1))\n",
    "\"Name\" in dict\n",
    "\"Age\" not in dict"
   ]
  },
  {
   "cell_type": "markdown",
   "metadata": {},
   "source": [
    "#### 10. Write a Python Program to Count the Frequency of Words Appearing in a String Using a Dictionary and print only the words having Even (divisible by 2) frequency."
   ]
  },
  {
   "cell_type": "code",
   "execution_count": 51,
   "metadata": {},
   "outputs": [
    {
     "name": "stdout",
     "output_type": "stream",
     "text": [
      "Enter String : \n",
      "fazal rehman fazal\n",
      "Enter word : \n",
      "fazal\n",
      "2\n"
     ]
    }
   ],
   "source": [
    "# dict = {\"Name\":\"Fazal\"}\n",
    "# name = dict[\"Name\"]\n",
    "# word = 'a'\n",
    "# count = 0\n",
    "# for i in name:\n",
    "#     if i == word:\n",
    "#         count += 1\n",
    "# if count%2 == 0:\n",
    "#     print(count)\n",
    "\n",
    "dict = {}\n",
    "count = 0\n",
    "dict = input(\"Enter String : \\n\").split(' ')\n",
    "word = input(\"Enter word : \\n\")\n",
    "for i in range(len(dict)):\n",
    "    if dict[i] == word:\n",
    "        count += 1\n",
    "if count%2 == 0:\n",
    "    print(count)\n",
    "\n"
   ]
  },
  {
   "cell_type": "markdown",
   "metadata": {},
   "source": [
    "#### 11. X = [\"Feb\", Apr, Mar, May, Jun, Jul, Aug, Jan]. What will be output of following? "
   ]
  },
  {
   "cell_type": "code",
   "execution_count": 4,
   "metadata": {},
   "outputs": [
    {
     "data": {
      "text/plain": [
       "['Apr', 'Mar', 'May', 'Jun', 'Jul', 'Aug']"
      ]
     },
     "execution_count": 4,
     "metadata": {},
     "output_type": "execute_result"
    }
   ],
   "source": [
    "# Ans :\n",
    "# X[0:3]  \"Feb\", Apr, Mar\n",
    "# X[2:8]   Mar, May, Jun, Jul, Aug, Jan\n",
    "# X[4:9] Jun, Jul, Aug, Jan\n",
    "# X[1:7:2] Apr, jun, jan\n",
    "# X[-1:-7]  []\n",
    "# X[-7:7] Apr, Mar, May, Jun, Jul, Aug, Jan\n",
    "# X[-1:-8:-2] jan, jun, apr\n",
    "# X[:4] \"Feb\", Apr, Mar, May, Jun,"
   ]
  },
  {
   "cell_type": "markdown",
   "metadata": {},
   "source": [
    "#### 12. Remove the correct number from the list X"
   ]
  },
  {
   "cell_type": "code",
   "execution_count": 19,
   "metadata": {},
   "outputs": [],
   "source": [
    "# Ans : 3"
   ]
  },
  {
   "cell_type": "markdown",
   "metadata": {},
   "source": [
    "#### 13. p = 3"
   ]
  },
  {
   "cell_type": "code",
   "execution_count": null,
   "metadata": {},
   "outputs": [],
   "source": [
    "# p = 3\n",
    "# q = 'hello! '\n",
    "# print( *q * p )\n",
    "# Ans : 1"
   ]
  },
  {
   "cell_type": "markdown",
   "metadata": {},
   "source": [
    "#### 14. y = \"this is a random sentence\""
   ]
  },
  {
   "cell_type": "code",
   "execution_count": null,
   "metadata": {},
   "outputs": [],
   "source": [
    "# Ans : 1\n",
    "# y = \"this is a random sentence\"\n",
    "# print (y.upper())"
   ]
  },
  {
   "cell_type": "code",
   "execution_count": 36,
   "metadata": {},
   "outputs": [],
   "source": [
    "# 15. p = True\n",
    "# q = ‘True’\n",
    "# r = 2\n",
    "# r = 2.0\n",
    "# print(type(p)) # bool\n",
    "# print(type(q)) # str\n",
    "# print(type(r)) # int\n",
    "# print(type(s)) # float"
   ]
  },
  {
   "cell_type": "markdown",
   "metadata": {},
   "source": [
    "#### 16. What are the optional arguments to the function?"
   ]
  },
  {
   "cell_type": "code",
   "execution_count": null,
   "metadata": {},
   "outputs": [],
   "source": [
    "# Ans : 2"
   ]
  },
  {
   "cell_type": "markdown",
   "metadata": {},
   "source": [
    "#### 17. Which command invokes method X() of the object p?"
   ]
  },
  {
   "cell_type": "code",
   "execution_count": 41,
   "metadata": {},
   "outputs": [],
   "source": [
    "# Ans : 4"
   ]
  },
  {
   "cell_type": "markdown",
   "metadata": {},
   "source": [
    "#### 18. X = 4 Y = 2"
   ]
  },
  {
   "cell_type": "code",
   "execution_count": 2,
   "metadata": {},
   "outputs": [],
   "source": [
    "# Ans :\n",
    "# print(X % Y) # 0\n",
    "# print(X / Y) # 2.0\n",
    "# print(X // Y) # 2.0\n",
    "# print(Y % X) # 2.0"
   ]
  },
  {
   "cell_type": "markdown",
   "metadata": {},
   "source": [
    "#### 19. x = [[4, 1, 1], [5, 9, 0]]"
   ]
  },
  {
   "cell_type": "code",
   "execution_count": 18,
   "metadata": {},
   "outputs": [
    {
     "name": "stdout",
     "output_type": "stream",
     "text": [
      "4\n",
      "1\n",
      "1\n",
      "5\n",
      "9\n",
      "0\n",
      "\n",
      "\n",
      "4 5\n",
      "1 9\n",
      "1 0\n",
      "\n",
      "\n",
      "4 1 1 5 9 0\n",
      "\n",
      "\n",
      "4 1 1\n",
      "5 9 0\n"
     ]
    }
   ],
   "source": [
    "# Ans :\n",
    "\n",
    "x = [[4, 1, 1], [5, 9, 0]]\n",
    "\n",
    "for row in x:\n",
    "    print(\"\\n\".join(map(str, row)))\n",
    "\n",
    "print(\"\\n\")\n",
    "    \n",
    "for row in zip(*x):\n",
    "    print(\" \".join(map(str, row)))\n",
    "\n",
    "print(\"\\n\")\n",
    "\n",
    "res = [col for row in x for col in row]\n",
    "print(\" \".join(map(str, res)))\n",
    "\n",
    "print(\"\\n\")\n",
    "\n",
    "for row in x:\n",
    "    print(\" \".join(map(str, row)))"
   ]
  },
  {
   "cell_type": "markdown",
   "metadata": {},
   "source": [
    "#### 20. q = [10.62, 16.14, 6.45, 17.11]"
   ]
  },
  {
   "cell_type": "code",
   "execution_count": null,
   "metadata": {},
   "outputs": [],
   "source": [
    "# Ans : 3"
   ]
  },
  {
   "cell_type": "markdown",
   "metadata": {},
   "source": [
    "#### 21. Which of these about a dictionary is false?"
   ]
  },
  {
   "cell_type": "code",
   "execution_count": 30,
   "metadata": {},
   "outputs": [],
   "source": [
    "# Ans : b"
   ]
  },
  {
   "cell_type": "markdown",
   "metadata": {},
   "source": [
    "#### 22. What is the output of the following:"
   ]
  },
  {
   "cell_type": "code",
   "execution_count": 32,
   "metadata": {},
   "outputs": [],
   "source": [
    "# Ans : a"
   ]
  },
  {
   "cell_type": "markdown",
   "metadata": {},
   "source": [
    "#### 23. You are writing a function that increments player score in a soccer game"
   ]
  },
  {
   "cell_type": "code",
   "execution_count": null,
   "metadata": {},
   "outputs": [],
   "source": [
    "# Ans :\n",
    "# 1 True\n",
    "# 2 True\n",
    "# 3 False"
   ]
  },
  {
   "cell_type": "markdown",
   "metadata": {},
   "source": [
    "#### 24. What will be output?"
   ]
  },
  {
   "cell_type": "code",
   "execution_count": 34,
   "metadata": {},
   "outputs": [
    {
     "name": "stdout",
     "output_type": "stream",
     "text": [
      "11.333333333333334\n"
     ]
    }
   ],
   "source": [
    "def avg ( x , y , z = 50 ):\n",
    "    adding = x + y + z\n",
    "    avg_value = adding / 3\n",
    "    return avg_value\n",
    "y = avg ( x = 5 , y = 9 , z = 20 )\n",
    "print(y)\n",
    "\n",
    "# Ans : 11.333333333333334"
   ]
  },
  {
   "cell_type": "markdown",
   "metadata": {},
   "source": [
    "#### 25. What will be output? Describe it with reason and logic behind. Do multiple experiments with arguments / parameters to remove error, if occurs."
   ]
  },
  {
   "cell_type": "code",
   "execution_count": 39,
   "metadata": {},
   "outputs": [
    {
     "name": "stdout",
     "output_type": "stream",
     "text": [
      "name is: Ali Marks: 44.5\n"
     ]
    }
   ],
   "source": [
    "def avg ( name, *opt_values ):\n",
    "    avg_value = sum (opt_values) / len(opt_values)\n",
    "    print('name is: ' + name + ' Marks: ' + str(avg_value))\n",
    "avg( 'Ali', 5 , 9 , 20, 34, 87, 112  )\n",
    "\n",
    "# Ans all unknown parameter should be passed after known parameter "
   ]
  },
  {
   "cell_type": "markdown",
   "metadata": {},
   "source": [
    "#### 26. Final output is not required. Just take copy pencil, think and write the output of each line, write down the link between parameters and arguments. Remove one or two ** from other_info and observe the ouput.\n"
   ]
  },
  {
   "cell_type": "code",
   "execution_count": 6,
   "metadata": {},
   "outputs": [
    {
     "name": "stdout",
     "output_type": "stream",
     "text": [
      "The winner was Manchester\n",
      "The score was 1-0\n",
      "overtime yes\n",
      "injuries none\n"
     ]
    }
   ],
   "source": [
    "def display_result(winner, score, **other_info):\n",
    "    print(\"The winner was \" + winner) # winner is our 1st defined parameter it has value = Manchester\n",
    "    print(\"The score was \" + score) # score is our 2nd defined parameter it has value = 1-0\n",
    "    #**other_info is our third keyword parameter, it is unknown parameter as we don't the no of total unknown parameter.\n",
    "    # on removing ** we got error display_result() got an unexpected keyword argument 'overtime'\n",
    "    for k,v in other_info.items():\n",
    "        print(k+\" \"+v)\n",
    "display_result(winner=\"Manchester\", score=\"1-0\", overtime =\"yes\", injuries=\"none\")\n",
    "\n"
   ]
  },
  {
   "cell_type": "markdown",
   "metadata": {},
   "source": [
    "#### 27. The position of parameters and arguments is re-arranged. Just think and find the logic behind output or error."
   ]
  },
  {
   "cell_type": "code",
   "execution_count": 10,
   "metadata": {},
   "outputs": [
    {
     "name": "stdout",
     "output_type": "stream",
     "text": [
      "The winner was Manchester\n",
      "The score was 1-0\n",
      "overtime yes\n",
      "injuries none\n"
     ]
    }
   ],
   "source": [
    "def display_result(winner, score, **other_info):\n",
    "    print(\"The winner was \" + winner)\n",
    "    print(\"The score was \" + score)\n",
    "    for k,v in other_info.items():\n",
    "        print(k+\" \"+v)\n",
    "display_result(winner=\"Manchester\", overtime =\"yes\", injuries=\"none\" , score=\"1-0\" )\n",
    "\n",
    "# Ans : we can't pass unknown no of keyword parameter to the function before know keyword parameter, we must need to pass \n",
    "# unknown no of keyword parameter to the function at the end."
   ]
  },
  {
   "cell_type": "markdown",
   "metadata": {},
   "source": [
    "#### 28. What will be the output of the following Python expression if X=123?"
   ]
  },
  {
   "cell_type": "code",
   "execution_count": 16,
   "metadata": {},
   "outputs": [],
   "source": [
    "# Ans : b"
   ]
  },
  {
   "cell_type": "markdown",
   "metadata": {},
   "source": [
    "#### 29. What will be the output of the following Python expression if x=22.19?"
   ]
  },
  {
   "cell_type": "code",
   "execution_count": null,
   "metadata": {},
   "outputs": [],
   "source": [
    "# Ans : c"
   ]
  },
  {
   "cell_type": "markdown",
   "metadata": {},
   "source": [
    "#### 30. What will be the output of the following Python code?"
   ]
  },
  {
   "cell_type": "code",
   "execution_count": 38,
   "metadata": {},
   "outputs": [],
   "source": [
    "# Ans : d"
   ]
  },
  {
   "cell_type": "markdown",
   "metadata": {},
   "source": [
    "#### 31. Write down the output of each line after each iterations. Do multiple experiments to change values"
   ]
  },
  {
   "cell_type": "code",
   "execution_count": 3,
   "metadata": {},
   "outputs": [],
   "source": [
    "i = 1\n",
    "while False:  # 1st time false,2nd time false,3rd time false....remain false,never go inside never execute code inside \n",
    "    if i%2 == 0:\n",
    "        break \n",
    "    print(i) \n",
    "    i += 2"
   ]
  },
  {
   "cell_type": "markdown",
   "metadata": {},
   "source": [
    "#### 32. Write down the output of each line after each iterations. Do multiple experiments to change values"
   ]
  },
  {
   "cell_type": "code",
   "execution_count": 13,
   "metadata": {},
   "outputs": [
    {
     "name": "stdout",
     "output_type": "stream",
     "text": [
      "a\n",
      "a a\n",
      "a a\n",
      "a a\n",
      "a a\n",
      "a a\n",
      "a "
     ]
    }
   ],
   "source": [
    "x = \"abcdef\"\n",
    "i = \"a\"\n",
    "while i in x: # 1st time true,2nd time,3rd time true,4th time true,5th time true,6th time true\n",
    "    print(i) #a,a,a,a,a,a\n",
    "    x = x[:-1]#abcde,abcd,abc,ab,a,nothing\n",
    "    print(i, end = \" \") #a,#a,#a,#a,#a,#a"
   ]
  },
  {
   "cell_type": "markdown",
   "metadata": {},
   "source": [
    "#### 33. Write down the output of each line after each iterations. Do multiple experiments to change values"
   ]
  },
  {
   "cell_type": "code",
   "execution_count": 16,
   "metadata": {},
   "outputs": [
    {
     "name": "stdout",
     "output_type": "stream",
     "text": [
      "d\n",
      "c\n",
      "b\n",
      "a\n"
     ]
    }
   ],
   "source": [
    "for i in ''.join(reversed(list('abcd'))):\n",
    "    print (i)\n",
    "\n",
    "# convert string into list [abcd]\n",
    "# reversed list [dcba] and joined by ''\n",
    "# loop through list 1 by 1 each element\n",
    "# print each element"
   ]
  },
  {
   "cell_type": "markdown",
   "metadata": {},
   "source": [
    "#### 34. Flow of the program. Write the output of each line after every iteration of ‘i’"
   ]
  },
  {
   "cell_type": "code",
   "execution_count": 17,
   "metadata": {},
   "outputs": [
    {
     "name": "stdout",
     "output_type": "stream",
     "text": [
      "0\n",
      "1\n",
      "2\n",
      "3\n",
      "4\n"
     ]
    }
   ],
   "source": [
    "for i in range(10): #loop through range of number from 0 - 9\n",
    "    if i == 5: # false,false,false,false,true\n",
    "        break #come out of loop\n",
    "    else:\n",
    "        print(i) #0,1,2,3,4\n",
    "else: #never run no no if condition\n",
    "    print(\"Here\")"
   ]
  },
  {
   "cell_type": "markdown",
   "metadata": {},
   "source": [
    "#### 35. What is the output? And understand the functionality of lambda function"
   ]
  },
  {
   "cell_type": "code",
   "execution_count": 19,
   "metadata": {},
   "outputs": [
    {
     "name": "stdout",
     "output_type": "stream",
     "text": [
      "48\n"
     ]
    }
   ],
   "source": [
    "y = 6\n",
    "z = lambda x: x * y\n",
    "print(z(8))\n",
    "\n",
    "# Ans : 48"
   ]
  },
  {
   "cell_type": "markdown",
   "metadata": {},
   "source": [
    "#### 36. Write output and give proper logic of whatever the output comes."
   ]
  },
  {
   "cell_type": "code",
   "execution_count": 26,
   "metadata": {},
   "outputs": [
    {
     "name": "stdout",
     "output_type": "stream",
     "text": [
      "0\n"
     ]
    }
   ],
   "source": [
    "i=0 #global variable\n",
    "def change(i):\n",
    "    i=i+1 #local variable\n",
    "    return i # 2\n",
    "change(1) #2\n",
    "print(i) #0 as we can't change value of global var inside fun untill we not declare global word with it inside fun definition"
   ]
  },
  {
   "cell_type": "markdown",
   "metadata": {},
   "source": [
    "#### 40. What will be output? Define this output clearly"
   ]
  },
  {
   "cell_type": "code",
   "execution_count": 28,
   "metadata": {},
   "outputs": [
    {
     "name": "stdout",
     "output_type": "stream",
     "text": [
      "<class 'tuple'>\n",
      "(2, 3, 4)\n"
     ]
    }
   ],
   "source": [
    "def change(one, *two):\n",
    "    print(type(two))\n",
    "    print(two)\n",
    "change(1,2,3,4)\n",
    "\n",
    "#Ans tuple and (2,3,4)\n",
    "#one show first position argument i.e. 1 and *two represent rest all argument i.e. 2,3,4 and python convert all unknow no of \n",
    "# non key argument into tupple"
   ]
  },
  {
   "cell_type": "markdown",
   "metadata": {},
   "source": [
    "#### 41. What will be output? Define this output clearly"
   ]
  },
  {
   "cell_type": "code",
   "execution_count": 30,
   "metadata": {},
   "outputs": [
    {
     "name": "stdout",
     "output_type": "stream",
     "text": [
      "<class 'dict'>\n"
     ]
    }
   ],
   "source": [
    "def find(a, **b):\n",
    "    print(type(b))\n",
    "find('letters',A='1',B='2')\n",
    "\n",
    "#Ans dict\n",
    "#one show first position argument i.e. letters and **b represent rest all keyword argument i.e. A='1',B='2' and python convert \n",
    "# all unknow no of keyword argument into dictionary"
   ]
  },
  {
   "cell_type": "markdown",
   "metadata": {},
   "source": [
    "#### 42. Write output and define each line’s output for each iteration of ‘i’"
   ]
  },
  {
   "cell_type": "code",
   "execution_count": 31,
   "metadata": {},
   "outputs": [
    {
     "name": "stdout",
     "output_type": "stream",
     "text": [
      "[0]\n",
      "[0, 1]\n",
      "[0, 1, 2]\n"
     ]
    }
   ],
   "source": [
    "def foo(i, x=[]):#foo take 2 argument 1st required,2nd not required and has default value of empty list\n",
    "    x.append(i) #append 1st param value to list\n",
    "    return x #return list\n",
    "for i in range(3): #loop through range of number from 0 - 2\n",
    "    print(foo(i)) # pass each no i.e.0,1 and 2 one by one to function foo,foo return list each time,display lisst i.e. [0],[0,1]\n",
    "    #[0,1,2]"
   ]
  },
  {
   "cell_type": "markdown",
   "metadata": {},
   "source": [
    "#### 43. Evaluate the following Python arithmetic expression: and write which segment will execute first? (Brackets, Exponents, Multiplication, Addition / Subtraction, Left to right rule)"
   ]
  },
  {
   "cell_type": "code",
   "execution_count": 33,
   "metadata": {},
   "outputs": [
    {
     "data": {
      "text/plain": [
       "15"
      ]
     },
     "execution_count": 33,
     "metadata": {},
     "output_type": "execute_result"
    }
   ],
   "source": [
    "( 3 * (1 + 2) ** 2 - (2 ** 2) * 3 )\n",
    "\n",
    "# Ans 15\n",
    "\n",
    "# ( 1 + 2 ) = 3\n",
    "# 3 ** 2 = 9\n",
    "# 3 * 9 = 27\n",
    "\n",
    "# ( 2 ** 2 ) = 4\n",
    "# 4 * 3 = 12\n",
    "\n",
    "# 27 - 12 = 15"
   ]
  },
  {
   "cell_type": "markdown",
   "metadata": {},
   "source": [
    "#### 44.You are creating a function that manipulates a number. The function has the following requirements:A float is passed into the functionThe function must take the absolute value of the floatAny decimal points after the integer must be removed\n",
    "\n"
   ]
  },
  {
   "cell_type": "code",
   "execution_count": 7,
   "metadata": {},
   "outputs": [
    {
     "name": "stdout",
     "output_type": "stream",
     "text": [
      "3.67\n"
     ]
    }
   ],
   "source": [
    "# Ans : E\n",
    "\n",
    "import math\n",
    "def abc(a):\n",
    "    return math.fabs(a)\n",
    "\n",
    "print(abc(-3.67))"
   ]
  },
  {
   "cell_type": "markdown",
   "metadata": {},
   "source": [
    "#### 45. You are writing code that generates a random integer with a minimum value of 5 and a maximum value of 11.Which two functions should you use? Each correct answer presents a complete solution. (Choose two.)"
   ]
  },
  {
   "cell_type": "code",
   "execution_count": 31,
   "metadata": {},
   "outputs": [
    {
     "data": {
      "text/plain": [
       "8"
      ]
     },
     "execution_count": 31,
     "metadata": {},
     "output_type": "execute_result"
    }
   ],
   "source": [
    "# Ans : A & B\n",
    "\n",
    "# import random \n",
    "# random.randint(5, 12)\n",
    "# random.randint(5, 11)\n",
    "# random.randrange(5, 12, 1)\n",
    "# random.randrange(5, 11, 1)"
   ]
  },
  {
   "cell_type": "markdown",
   "metadata": {},
   "source": [
    "#### 46. Write a program that receives marks from user and check the grade.Marks greater than equal to 90 then A gradeMarks between 80 to 90, B gradeMarks between 70 to 80, C gradeMarks between 60 to 70, D gradeMarks less than equal to 60 then E grade"
   ]
  },
  {
   "cell_type": "code",
   "execution_count": 36,
   "metadata": {},
   "outputs": [
    {
     "name": "stdout",
     "output_type": "stream",
     "text": [
      "Enter Your Marks : 80\n",
      "Grade is B.\n"
     ]
    }
   ],
   "source": [
    "marks = int(input(\"Enter Your Marks : \"))\n",
    "if marks >= 90:\n",
    "    print(\"Grade is A.\")\n",
    "elif marks >= 80 and marks < 90:\n",
    "    print(\"Grade is B.\")\n",
    "elif marks >= 70 and marks < 80:\n",
    "    print(\"Grade is C.\")\n",
    "elif marks >= 70 and marks < 60:\n",
    "    print(\"Grade is D.\")\n",
    "else:\n",
    "    print(\"Grade is E.\")"
   ]
  },
  {
   "cell_type": "code",
   "execution_count": 37,
   "metadata": {},
   "outputs": [
    {
     "data": {
      "text/plain": [
       "'1.234560, 1.234560, 1444.235'"
      ]
     },
     "execution_count": 37,
     "metadata": {},
     "output_type": "execute_result"
    }
   ],
   "source": [
    "'{0:f}, {1:f}, {2:06.3f}'.format(1.23456, 1.23456, 1444.23456)\n",
    "# a) Error b) ‘1.234560, 1.22345, 1.23’ c) No output d) ‘1.234560, 1.234560, 01.23’"
   ]
  },
  {
   "cell_type": "markdown",
   "metadata": {},
   "source": [
    "##### "
   ]
  },
  {
   "cell_type": "code",
   "execution_count": 15,
   "metadata": {},
   "outputs": [
    {
     "name": "stdout",
     "output_type": "stream",
     "text": [
      "d\n",
      "c\n",
      "b\n",
      "a\n"
     ]
    }
   ],
   "source": [
    "for i in ''.join(reversed(list('abcd'))):\n",
    "    print (i)"
   ]
  },
  {
   "cell_type": "code",
   "execution_count": null,
   "metadata": {},
   "outputs": [],
   "source": []
  },
  {
   "cell_type": "code",
   "execution_count": null,
   "metadata": {},
   "outputs": [],
   "source": []
  },
  {
   "cell_type": "code",
   "execution_count": 24,
   "metadata": {},
   "outputs": [
    {
     "name": "stdout",
     "output_type": "stream",
     "text": [
      "2267887886.1989\n"
     ]
    }
   ],
   "source": [
    "x=2267887886.19889890\n",
    "print(\"%.4f\"%x)\n",
    "# a) 22.1900\n",
    "# b) 22.00000\n",
    "# c) 22.19\n",
    "# d) 22.20"
   ]
  },
  {
   "cell_type": "code",
   "execution_count": null,
   "metadata": {},
   "outputs": [],
   "source": []
  },
  {
   "cell_type": "code",
   "execution_count": null,
   "metadata": {},
   "outputs": [],
   "source": []
  },
  {
   "cell_type": "code",
   "execution_count": 31,
   "metadata": {},
   "outputs": [
    {
     "name": "stdout",
     "output_type": "stream",
     "text": [
      "{0: 1, 1: 1, 2: 1}\n"
     ]
    }
   ],
   "source": [
    "D = dict()\n",
    "for i in range (3):\n",
    "    for j in range(2):\n",
    "        D[i] = j #0,0|0,1 \n",
    "print(D)"
   ]
  },
  {
   "cell_type": "code",
   "execution_count": null,
   "metadata": {},
   "outputs": [],
   "source": []
  },
  {
   "cell_type": "code",
   "execution_count": null,
   "metadata": {},
   "outputs": [],
   "source": []
  },
  {
   "cell_type": "code",
   "execution_count": null,
   "metadata": {},
   "outputs": [],
   "source": []
  },
  {
   "cell_type": "code",
   "execution_count": 25,
   "metadata": {},
   "outputs": [
    {
     "name": "stdout",
     "output_type": "stream",
     "text": [
      "Item 0 -  10.62\n",
      "Item 1 -  16.14\n",
      "Item 2 -  6.45\n",
      "Item 3 -  17.11\n"
     ]
    }
   ],
   "source": [
    "q = [10.62, 16.14, 6.45, 17.11]\n",
    "for j, z in enumerate (q) :\n",
    "    print( 'Item ' + str( j ) + ' - ', str ( z ))"
   ]
  },
  {
   "cell_type": "code",
   "execution_count": 29,
   "metadata": {},
   "outputs": [
    {
     "name": "stdout",
     "output_type": "stream",
     "text": [
      "['first', 'second', 'third']\n"
     ]
    }
   ],
   "source": [
    "myDict = {'first': 1, 'second': 2, 'third': 3}\n",
    "# print(myDict)\n",
    "# Out: {'first': 1, 'second': 2, 'third': 3}\n",
    "\n",
    "print([k for k in myDict])\n",
    "# Out: ['second', 'third', 'first']"
   ]
  },
  {
   "cell_type": "code",
   "execution_count": 42,
   "metadata": {},
   "outputs": [
    {
     "name": "stdout",
     "output_type": "stream",
     "text": [
      "4   5 5\n",
      "1   9 9\n",
      "1   0 0\n"
     ]
    },
    {
     "ename": "IndexError",
     "evalue": "list index out of range",
     "output_type": "error",
     "traceback": [
      "\u001b[1;31m---------------------------------------------------------------------------\u001b[0m",
      "\u001b[1;31mIndexError\u001b[0m                                Traceback (most recent call last)",
      "\u001b[1;32m<ipython-input-42-39d2ab53d07e>\u001b[0m in \u001b[0;36m<module>\u001b[1;34m\u001b[0m\n\u001b[0;32m     15\u001b[0m     \u001b[1;32mfor\u001b[0m \u001b[0mj\u001b[0m \u001b[1;32min\u001b[0m \u001b[0mrange\u001b[0m\u001b[1;33m(\u001b[0m\u001b[0mcols\u001b[0m\u001b[1;33m)\u001b[0m\u001b[1;33m:\u001b[0m\u001b[1;33m\u001b[0m\u001b[1;33m\u001b[0m\u001b[0m\n\u001b[0;32m     16\u001b[0m         \u001b[1;32mif\u001b[0m \u001b[0mi\u001b[0m \u001b[1;33m!=\u001b[0m \u001b[0mrows\u001b[0m \u001b[1;33m-\u001b[0m \u001b[1;36m1\u001b[0m\u001b[1;33m:\u001b[0m\u001b[1;33m\u001b[0m\u001b[1;33m\u001b[0m\u001b[0m\n\u001b[1;32m---> 17\u001b[1;33m             \u001b[0mprint\u001b[0m\u001b[1;33m(\u001b[0m\u001b[1;34mf\"{x[i][j]}   {x[i+1][j]} {x[i+2][j]}\"\u001b[0m\u001b[1;33m)\u001b[0m\u001b[1;33m\u001b[0m\u001b[1;33m\u001b[0m\u001b[0m\n\u001b[0m\u001b[0;32m     18\u001b[0m \u001b[1;31m#     for j in range(len(x[i])):\u001b[0m\u001b[1;33m\u001b[0m\u001b[1;33m\u001b[0m\u001b[1;33m\u001b[0m\u001b[0m\n\u001b[0;32m     19\u001b[0m \u001b[1;31m#         print(j)\u001b[0m\u001b[1;33m\u001b[0m\u001b[1;33m\u001b[0m\u001b[1;33m\u001b[0m\u001b[0m\n",
      "\u001b[1;31mIndexError\u001b[0m: list index out of range"
     ]
    }
   ],
   "source": [
    "# x = [[4, 1, 1], [5, 9, 0]]\n",
    "# for i in __?__:\n",
    "# for j in __?__:\n",
    "# ?\n",
    "# Output: 4 5\n",
    "# 1 9\n",
    "# 1 0\n",
    "x = [[4, 1, 1], [5, 9, 0]]\n",
    "rows = len(x)\n",
    "cols = len(x[0])\n",
    "\n",
    "# print(rows)\n",
    "# print(cols)\n",
    "for i in range(rows):\n",
    "    for j in range(cols):\n",
    "        if i != rows - 1:\n",
    "            print(f\"{x[i][j]}   {x[i+1][j]}\")\n",
    "#     for j in range(len(x[i])):\n",
    "#         print(j)\n",
    "#         print(i)\n",
    "#         print(x[i][j])\n",
    "        \n",
    "#     print(i)\n",
    "#     for j in i:\n",
    "#         print(x[j])"
   ]
  },
  {
   "cell_type": "code",
   "execution_count": 53,
   "metadata": {},
   "outputs": [
    {
     "name": "stdout",
     "output_type": "stream",
     "text": [
      "0 1\n",
      "0 2\n",
      "0 3\n",
      "0 4\n",
      "1 5\n",
      "1 6\n",
      "2 7\n",
      "2 8\n",
      "2 9\n"
     ]
    }
   ],
   "source": [
    "a = [[1, 2, 3], [4, 5, 6], [7, 8, 9]]\n",
    "\n",
    "for x, y in [(x,y) for x in range(len(a)) for y in a[x]]:\n",
    "    print (x, y)\n",
    "\n",
    "# for x, y in [(x,y) for x in a for y in x]:\n",
    "#     print (y, end=' ')"
   ]
  },
  {
   "cell_type": "code",
   "execution_count": 51,
   "metadata": {},
   "outputs": [
    {
     "name": "stdout",
     "output_type": "stream",
     "text": [
      "6\n",
      "7\n",
      "7\n",
      "9\n"
     ]
    }
   ],
   "source": [
    "def function_1(R1, q, p=None, R2= None):\n",
    "    print(R1) \n",
    "    print(q)\n",
    "    print(p) \n",
    "    print(R2)\n",
    "function_1(6, 7, 7, 9)"
   ]
  },
  {
   "cell_type": "code",
   "execution_count": 3,
   "metadata": {},
   "outputs": [
    {
     "data": {
      "text/plain": [
       "['Apr', 'Mar', 'May', 'Jun', 'Jul', 'Aug']"
      ]
     },
     "execution_count": 3,
     "metadata": {},
     "output_type": "execute_result"
    }
   ],
   "source": [
    "X = [\"Feb\", \"Apr\", \"Mar\", \"May\", \"Jun\", \"Jul\", \"Aug\", \"Jan\"]\n",
    "# X[0:3]\n",
    "# X[2:8]\n",
    "# X[4:9]\n",
    "# X[1:7:2]\n",
    "# X[-1]\n",
    "# X[-7]\n",
    "# X[-7:-1:]\n",
    "# X[7:0:]\n",
    "# X[-7:7] \n",
    "# X[-1:-8:-2]\n",
    "# X[:4]"
   ]
  },
  {
   "cell_type": "code",
   "execution_count": 10,
   "metadata": {},
   "outputs": [
    {
     "name": "stdout",
     "output_type": "stream",
     "text": [
      "('School', 'VMS')\n",
      "8\n",
      "ali\n",
      "ali\n",
      "Name : ali\n",
      "Grade : 2\n"
     ]
    }
   ],
   "source": [
    "dict = {'Name':'ali','Age':8,'Grade':2,'School':'VMS'}\n",
    "cc = dict.popitem()\n",
    "print(cc)\n",
    "bb = dict.pop('Age')\n",
    "print(bb)\n",
    "a = dict['Name']\n",
    "print(a)\n",
    "print(dict['Name'])\n",
    "for key,value in dict.items():\n",
    "        print(f\"{key} : {value}\")"
   ]
  },
  {
   "cell_type": "code",
   "execution_count": 5,
   "metadata": {},
   "outputs": [
    {
     "data": {
      "text/plain": [
       "{'a': 10, 'b': 200, 'c': 30, 'd': 400}"
      ]
     },
     "execution_count": 5,
     "metadata": {},
     "output_type": "execute_result"
    }
   ],
   "source": [
    "d1 = {'a': 10, 'b': 20, 'c': 30}\n",
    "d2 = {'b': 200, 'd': 400}\n",
    "# d2.update(d1)\n",
    "d1.update(d2)\n",
    "d1\n",
    "# d2"
   ]
  },
  {
   "cell_type": "markdown",
   "metadata": {},
   "source": [
    "X = [ 9,2,8,4,5]\n",
    "X__del__"
   ]
  },
  {
   "cell_type": "code",
   "execution_count": 12,
   "metadata": {},
   "outputs": [
    {
     "data": {
      "text/plain": [
       "['__add__',\n",
       " '__class__',\n",
       " '__contains__',\n",
       " '__delattr__',\n",
       " '__delitem__',\n",
       " '__dir__',\n",
       " '__doc__',\n",
       " '__eq__',\n",
       " '__format__',\n",
       " '__ge__',\n",
       " '__getattribute__',\n",
       " '__getitem__',\n",
       " '__gt__',\n",
       " '__hash__',\n",
       " '__iadd__',\n",
       " '__imul__',\n",
       " '__init__',\n",
       " '__init_subclass__',\n",
       " '__iter__',\n",
       " '__le__',\n",
       " '__len__',\n",
       " '__lt__',\n",
       " '__mul__',\n",
       " '__ne__',\n",
       " '__new__',\n",
       " '__reduce__',\n",
       " '__reduce_ex__',\n",
       " '__repr__',\n",
       " '__reversed__',\n",
       " '__rmul__',\n",
       " '__setattr__',\n",
       " '__setitem__',\n",
       " '__sizeof__',\n",
       " '__str__',\n",
       " '__subclasshook__',\n",
       " 'append',\n",
       " 'clear',\n",
       " 'copy',\n",
       " 'count',\n",
       " 'extend',\n",
       " 'index',\n",
       " 'insert',\n",
       " 'pop',\n",
       " 'remove',\n",
       " 'reverse',\n",
       " 'sort']"
      ]
     },
     "execution_count": 12,
     "metadata": {},
     "output_type": "execute_result"
    }
   ],
   "source": [
    "X = [ 9,2,8,4,5] \n",
    "dir(X)"
   ]
  },
  {
   "cell_type": "code",
   "execution_count": 18,
   "metadata": {},
   "outputs": [
    {
     "name": "stdout",
     "output_type": "stream",
     "text": [
      "None\n"
     ]
    },
    {
     "data": {
      "text/plain": [
       "[2, 8, 4, 5]"
      ]
     },
     "execution_count": 18,
     "metadata": {},
     "output_type": "execute_result"
    }
   ],
   "source": [
    "X = [ 9,2,8,4,5] \n",
    "a = X.remove(9)\n",
    "print(a)\n",
    "X"
   ]
  },
  {
   "cell_type": "code",
   "execution_count": 28,
   "metadata": {},
   "outputs": [
    {
     "name": "stdout",
     "output_type": "stream",
     "text": [
      "h e l l o !   h e l l o !   h e l l o !  \n"
     ]
    }
   ],
   "source": [
    "p = 3\n",
    "q = 'hello! '\n",
    "print( *q * p )"
   ]
  },
  {
   "cell_type": "code",
   "execution_count": 32,
   "metadata": {},
   "outputs": [
    {
     "name": "stdout",
     "output_type": "stream",
     "text": [
      "THIS IS A RANDOM SENTENCE\n"
     ]
    }
   ],
   "source": [
    "y = \"this is a random sentence\"\n",
    "print (y.upper())"
   ]
  },
  {
   "cell_type": "code",
   "execution_count": 35,
   "metadata": {},
   "outputs": [
    {
     "name": "stdout",
     "output_type": "stream",
     "text": [
      "<class 'bool'>\n",
      "<class 'str'>\n",
      "<class 'int'>\n",
      "<class 'float'>\n"
     ]
    }
   ],
   "source": [
    "p = True\n",
    "q = 'True'\n",
    "r = 2\n",
    "s = 2.0\n",
    "print(type(p)) # bool\n",
    "print(type(q)) # str\n",
    "print(type(r)) # int\n",
    "print(type(s)) # float"
   ]
  },
  {
   "cell_type": "code",
   "execution_count": 43,
   "metadata": {},
   "outputs": [
    {
     "name": "stdout",
     "output_type": "stream",
     "text": [
      "0\n",
      "2.0\n",
      "2\n",
      "2\n"
     ]
    }
   ],
   "source": [
    "X=4\n",
    "Y= 2\n",
    "print(X % Y) # 0\n",
    "print(X / Y) # 2\n",
    "print(X // Y) # 2\n",
    "print(Y % X) # 0 2 % 4 = "
   ]
  },
  {
   "cell_type": "code",
   "execution_count": null,
   "metadata": {},
   "outputs": [],
   "source": []
  }
 ],
 "metadata": {
  "kernelspec": {
   "display_name": "Python 3",
   "language": "python",
   "name": "python3"
  },
  "language_info": {
   "codemirror_mode": {
    "name": "ipython",
    "version": 3
   },
   "file_extension": ".py",
   "mimetype": "text/x-python",
   "name": "python",
   "nbconvert_exporter": "python",
   "pygments_lexer": "ipython3",
   "version": "3.7.4"
  }
 },
 "nbformat": 4,
 "nbformat_minor": 2
}
